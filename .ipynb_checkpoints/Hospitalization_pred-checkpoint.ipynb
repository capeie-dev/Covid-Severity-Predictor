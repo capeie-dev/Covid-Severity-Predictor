{
 "cells": [
  {
   "cell_type": "code",
   "execution_count": 1,
   "metadata": {},
   "outputs": [],
   "source": [
    "import pandas as pd\n",
    "df = pd.read_csv(\"final_translated.csv\")"
   ]
  },
  {
   "cell_type": "code",
   "execution_count": 2,
   "metadata": {},
   "outputs": [
    {
     "data": {
      "text/plain": [
       "Index(['Unnamed: 0', 'Gender', 'Hospitalization', 'Death', 'Ventilator',\n",
       "       'Pneumonia', 'Age', 'Pregnant', 'Diabetes', 'Asthma',\n",
       "       'Immunosuppression', 'Hypertension', 'Cardiovascular Disease',\n",
       "       'Obesity ', 'Chronic Renal Insufficiency', 'Tobacco Use',\n",
       "       'Contact COVID', 'ICU'],\n",
       "      dtype='object')"
      ]
     },
     "execution_count": 2,
     "metadata": {},
     "output_type": "execute_result"
    }
   ],
   "source": [
    "df.columns"
   ]
  },
  {
   "cell_type": "code",
   "execution_count": 3,
   "metadata": {},
   "outputs": [],
   "source": [
    "df = df.drop([\"ICU\",\"Ventilator\",\"Death\"],axis=1)"
   ]
  },
  {
   "cell_type": "code",
   "execution_count": null,
   "metadata": {},
   "outputs": [],
   "source": []
  },
  {
   "cell_type": "code",
   "execution_count": 4,
   "metadata": {},
   "outputs": [],
   "source": [
    "target = df['Hospitalization']"
   ]
  },
  {
   "cell_type": "code",
   "execution_count": 5,
   "metadata": {},
   "outputs": [],
   "source": [
    "x_values = df.drop(['Hospitalization'],axis=1)"
   ]
  },
  {
   "cell_type": "code",
   "execution_count": 6,
   "metadata": {},
   "outputs": [
    {
     "name": "stderr",
     "output_type": "stream",
     "text": [
      "/home/capeie/snap/jupyter/common/lib/python3.7/site-packages/joblib/_multiprocessing_helpers.py:45: UserWarning: [Errno 13] Permission denied.  joblib will operate in serial mode\n",
      "  warnings.warn('%s.  joblib will operate in serial mode' % (e,))\n"
     ]
    }
   ],
   "source": [
    "from sklearn import preprocessing\n",
    "min_max_scaler = preprocessing.MinMaxScaler()\n"
   ]
  },
  {
   "cell_type": "code",
   "execution_count": 7,
   "metadata": {},
   "outputs": [],
   "source": [
    "x_values['Age'] = min_max_scaler.fit_transform(x_values[['Age']])\n"
   ]
  },
  {
   "cell_type": "code",
   "execution_count": 8,
   "metadata": {},
   "outputs": [
    {
     "data": {
      "text/html": [
       "<div>\n",
       "<style scoped>\n",
       "    .dataframe tbody tr th:only-of-type {\n",
       "        vertical-align: middle;\n",
       "    }\n",
       "\n",
       "    .dataframe tbody tr th {\n",
       "        vertical-align: top;\n",
       "    }\n",
       "\n",
       "    .dataframe thead th {\n",
       "        text-align: right;\n",
       "    }\n",
       "</style>\n",
       "<table border=\"1\" class=\"dataframe\">\n",
       "  <thead>\n",
       "    <tr style=\"text-align: right;\">\n",
       "      <th></th>\n",
       "      <th>Unnamed: 0</th>\n",
       "      <th>Gender</th>\n",
       "      <th>Pneumonia</th>\n",
       "      <th>Age</th>\n",
       "      <th>Pregnant</th>\n",
       "      <th>Diabetes</th>\n",
       "      <th>Asthma</th>\n",
       "      <th>Immunosuppression</th>\n",
       "      <th>Hypertension</th>\n",
       "      <th>Cardiovascular Disease</th>\n",
       "      <th>Obesity</th>\n",
       "      <th>Chronic Renal Insufficiency</th>\n",
       "      <th>Tobacco Use</th>\n",
       "      <th>Contact COVID</th>\n",
       "    </tr>\n",
       "  </thead>\n",
       "  <tbody>\n",
       "    <tr>\n",
       "      <th>0</th>\n",
       "      <td>0</td>\n",
       "      <td>1</td>\n",
       "      <td>1</td>\n",
       "      <td>0.765306</td>\n",
       "      <td>2</td>\n",
       "      <td>1</td>\n",
       "      <td>2</td>\n",
       "      <td>2</td>\n",
       "      <td>2</td>\n",
       "      <td>2</td>\n",
       "      <td>2</td>\n",
       "      <td>2</td>\n",
       "      <td>2</td>\n",
       "      <td>2</td>\n",
       "    </tr>\n",
       "    <tr>\n",
       "      <th>1</th>\n",
       "      <td>1</td>\n",
       "      <td>2</td>\n",
       "      <td>2</td>\n",
       "      <td>0.224490</td>\n",
       "      <td>97</td>\n",
       "      <td>2</td>\n",
       "      <td>2</td>\n",
       "      <td>2</td>\n",
       "      <td>2</td>\n",
       "      <td>2</td>\n",
       "      <td>2</td>\n",
       "      <td>2</td>\n",
       "      <td>2</td>\n",
       "      <td>1</td>\n",
       "    </tr>\n",
       "    <tr>\n",
       "      <th>2</th>\n",
       "      <td>5</td>\n",
       "      <td>2</td>\n",
       "      <td>1</td>\n",
       "      <td>0.408163</td>\n",
       "      <td>97</td>\n",
       "      <td>2</td>\n",
       "      <td>2</td>\n",
       "      <td>2</td>\n",
       "      <td>2</td>\n",
       "      <td>2</td>\n",
       "      <td>2</td>\n",
       "      <td>2</td>\n",
       "      <td>2</td>\n",
       "      <td>2</td>\n",
       "    </tr>\n",
       "    <tr>\n",
       "      <th>3</th>\n",
       "      <td>6</td>\n",
       "      <td>1</td>\n",
       "      <td>2</td>\n",
       "      <td>0.295918</td>\n",
       "      <td>2</td>\n",
       "      <td>2</td>\n",
       "      <td>2</td>\n",
       "      <td>2</td>\n",
       "      <td>2</td>\n",
       "      <td>2</td>\n",
       "      <td>2</td>\n",
       "      <td>2</td>\n",
       "      <td>2</td>\n",
       "      <td>1</td>\n",
       "    </tr>\n",
       "    <tr>\n",
       "      <th>4</th>\n",
       "      <td>13</td>\n",
       "      <td>1</td>\n",
       "      <td>2</td>\n",
       "      <td>0.622449</td>\n",
       "      <td>2</td>\n",
       "      <td>1</td>\n",
       "      <td>2</td>\n",
       "      <td>2</td>\n",
       "      <td>2</td>\n",
       "      <td>2</td>\n",
       "      <td>1</td>\n",
       "      <td>2</td>\n",
       "      <td>2</td>\n",
       "      <td>1</td>\n",
       "    </tr>\n",
       "  </tbody>\n",
       "</table>\n",
       "</div>"
      ],
      "text/plain": [
       "   Unnamed: 0  Gender  Pneumonia       Age  Pregnant  Diabetes  Asthma  \\\n",
       "0           0       1          1  0.765306         2         1       2   \n",
       "1           1       2          2  0.224490        97         2       2   \n",
       "2           5       2          1  0.408163        97         2       2   \n",
       "3           6       1          2  0.295918         2         2       2   \n",
       "4          13       1          2  0.622449         2         1       2   \n",
       "\n",
       "   Immunosuppression  Hypertension  Cardiovascular Disease  Obesity   \\\n",
       "0                  2             2                       2         2   \n",
       "1                  2             2                       2         2   \n",
       "2                  2             2                       2         2   \n",
       "3                  2             2                       2         2   \n",
       "4                  2             2                       2         1   \n",
       "\n",
       "   Chronic Renal Insufficiency  Tobacco Use  Contact COVID  \n",
       "0                            2            2              2  \n",
       "1                            2            2              1  \n",
       "2                            2            2              2  \n",
       "3                            2            2              1  \n",
       "4                            2            2              1  "
      ]
     },
     "execution_count": 8,
     "metadata": {},
     "output_type": "execute_result"
    }
   ],
   "source": [
    "x_values.head()\n"
   ]
  },
  {
   "cell_type": "code",
   "execution_count": 9,
   "metadata": {},
   "outputs": [],
   "source": [
    "from sklearn.model_selection import cross_val_score\n",
    "from sklearn.ensemble import RandomForestRegressor"
   ]
  },
  {
   "cell_type": "code",
   "execution_count": 10,
   "metadata": {},
   "outputs": [],
   "source": [
    "#testing\n",
    "from sklearn.preprocessing import OneHotEncoder\n",
    "ohe = OneHotEncoder(sparse=False)"
   ]
  },
  {
   "cell_type": "code",
   "execution_count": 11,
   "metadata": {},
   "outputs": [
    {
     "data": {
      "text/html": [
       "<div>\n",
       "<style scoped>\n",
       "    .dataframe tbody tr th:only-of-type {\n",
       "        vertical-align: middle;\n",
       "    }\n",
       "\n",
       "    .dataframe tbody tr th {\n",
       "        vertical-align: top;\n",
       "    }\n",
       "\n",
       "    .dataframe thead th {\n",
       "        text-align: right;\n",
       "    }\n",
       "</style>\n",
       "<table border=\"1\" class=\"dataframe\">\n",
       "  <thead>\n",
       "    <tr style=\"text-align: right;\">\n",
       "      <th></th>\n",
       "      <th>Unnamed: 0</th>\n",
       "      <th>Gender</th>\n",
       "      <th>Pneumonia</th>\n",
       "      <th>Age</th>\n",
       "      <th>Pregnant</th>\n",
       "      <th>Diabetes</th>\n",
       "      <th>Asthma</th>\n",
       "      <th>Immunosuppression</th>\n",
       "      <th>Hypertension</th>\n",
       "      <th>Cardiovascular Disease</th>\n",
       "      <th>Obesity</th>\n",
       "      <th>Chronic Renal Insufficiency</th>\n",
       "      <th>Tobacco Use</th>\n",
       "      <th>Contact COVID</th>\n",
       "    </tr>\n",
       "  </thead>\n",
       "  <tbody>\n",
       "    <tr>\n",
       "      <th>0</th>\n",
       "      <td>0</td>\n",
       "      <td>1</td>\n",
       "      <td>1</td>\n",
       "      <td>0.765306</td>\n",
       "      <td>2</td>\n",
       "      <td>1</td>\n",
       "      <td>2</td>\n",
       "      <td>2</td>\n",
       "      <td>2</td>\n",
       "      <td>2</td>\n",
       "      <td>2</td>\n",
       "      <td>2</td>\n",
       "      <td>2</td>\n",
       "      <td>2</td>\n",
       "    </tr>\n",
       "    <tr>\n",
       "      <th>1</th>\n",
       "      <td>1</td>\n",
       "      <td>2</td>\n",
       "      <td>2</td>\n",
       "      <td>0.224490</td>\n",
       "      <td>97</td>\n",
       "      <td>2</td>\n",
       "      <td>2</td>\n",
       "      <td>2</td>\n",
       "      <td>2</td>\n",
       "      <td>2</td>\n",
       "      <td>2</td>\n",
       "      <td>2</td>\n",
       "      <td>2</td>\n",
       "      <td>1</td>\n",
       "    </tr>\n",
       "    <tr>\n",
       "      <th>2</th>\n",
       "      <td>5</td>\n",
       "      <td>2</td>\n",
       "      <td>1</td>\n",
       "      <td>0.408163</td>\n",
       "      <td>97</td>\n",
       "      <td>2</td>\n",
       "      <td>2</td>\n",
       "      <td>2</td>\n",
       "      <td>2</td>\n",
       "      <td>2</td>\n",
       "      <td>2</td>\n",
       "      <td>2</td>\n",
       "      <td>2</td>\n",
       "      <td>2</td>\n",
       "    </tr>\n",
       "    <tr>\n",
       "      <th>3</th>\n",
       "      <td>6</td>\n",
       "      <td>1</td>\n",
       "      <td>2</td>\n",
       "      <td>0.295918</td>\n",
       "      <td>2</td>\n",
       "      <td>2</td>\n",
       "      <td>2</td>\n",
       "      <td>2</td>\n",
       "      <td>2</td>\n",
       "      <td>2</td>\n",
       "      <td>2</td>\n",
       "      <td>2</td>\n",
       "      <td>2</td>\n",
       "      <td>1</td>\n",
       "    </tr>\n",
       "    <tr>\n",
       "      <th>4</th>\n",
       "      <td>13</td>\n",
       "      <td>1</td>\n",
       "      <td>2</td>\n",
       "      <td>0.622449</td>\n",
       "      <td>2</td>\n",
       "      <td>1</td>\n",
       "      <td>2</td>\n",
       "      <td>2</td>\n",
       "      <td>2</td>\n",
       "      <td>2</td>\n",
       "      <td>1</td>\n",
       "      <td>2</td>\n",
       "      <td>2</td>\n",
       "      <td>1</td>\n",
       "    </tr>\n",
       "  </tbody>\n",
       "</table>\n",
       "</div>"
      ],
      "text/plain": [
       "   Unnamed: 0  Gender  Pneumonia       Age  Pregnant  Diabetes  Asthma  \\\n",
       "0           0       1          1  0.765306         2         1       2   \n",
       "1           1       2          2  0.224490        97         2       2   \n",
       "2           5       2          1  0.408163        97         2       2   \n",
       "3           6       1          2  0.295918         2         2       2   \n",
       "4          13       1          2  0.622449         2         1       2   \n",
       "\n",
       "   Immunosuppression  Hypertension  Cardiovascular Disease  Obesity   \\\n",
       "0                  2             2                       2         2   \n",
       "1                  2             2                       2         2   \n",
       "2                  2             2                       2         2   \n",
       "3                  2             2                       2         2   \n",
       "4                  2             2                       2         1   \n",
       "\n",
       "   Chronic Renal Insufficiency  Tobacco Use  Contact COVID  \n",
       "0                            2            2              2  \n",
       "1                            2            2              1  \n",
       "2                            2            2              2  \n",
       "3                            2            2              1  \n",
       "4                            2            2              1  "
      ]
     },
     "execution_count": 11,
     "metadata": {},
     "output_type": "execute_result"
    }
   ],
   "source": [
    "x_values.head()"
   ]
  },
  {
   "cell_type": "code",
   "execution_count": 12,
   "metadata": {},
   "outputs": [
    {
     "data": {
      "text/plain": [
       "array([[0., 1., 0., 0.],\n",
       "       [0., 0., 1., 0.],\n",
       "       [0., 0., 1., 0.],\n",
       "       ...,\n",
       "       [0., 1., 0., 0.],\n",
       "       [0., 1., 0., 0.],\n",
       "       [0., 1., 0., 0.]])"
      ]
     },
     "execution_count": 12,
     "metadata": {},
     "output_type": "execute_result"
    }
   ],
   "source": [
    "#testing\n",
    "ohe.fit_transform(x_values[['Pregnant']])"
   ]
  },
  {
   "cell_type": "code",
   "execution_count": 13,
   "metadata": {},
   "outputs": [
    {
     "data": {
      "text/plain": [
       "0       2\n",
       "1       2\n",
       "2       2\n",
       "3       2\n",
       "4       1\n",
       "       ..\n",
       "5842    2\n",
       "5843    2\n",
       "5844    2\n",
       "5845    1\n",
       "5846    2\n",
       "Name: Obesity , Length: 5847, dtype: int64"
      ]
     },
     "execution_count": 13,
     "metadata": {},
     "output_type": "execute_result"
    }
   ],
   "source": [
    "x_values['Obesity ']\n"
   ]
  },
  {
   "cell_type": "code",
   "execution_count": 14,
   "metadata": {},
   "outputs": [],
   "source": [
    "from sklearn.compose import make_column_transformer\n",
    "column_trans = make_column_transformer((OneHotEncoder(),['Gender','Pneumonia','Pregnant','Diabetes','Asthma','Immunosuppression','Hypertension','Cardiovascular Disease','Obesity ','Chronic Renal Insufficiency','Tobacco Use','Contact COVID']),remainder='passthrough')"
   ]
  },
  {
   "cell_type": "code",
   "execution_count": 15,
   "metadata": {},
   "outputs": [
    {
     "data": {
      "text/plain": [
       "array([[1.00000000e+00, 0.00000000e+00, 1.00000000e+00, ...,\n",
       "        0.00000000e+00, 0.00000000e+00, 7.65306122e-01],\n",
       "       [0.00000000e+00, 1.00000000e+00, 0.00000000e+00, ...,\n",
       "        0.00000000e+00, 1.00000000e+00, 2.24489796e-01],\n",
       "       [0.00000000e+00, 1.00000000e+00, 1.00000000e+00, ...,\n",
       "        0.00000000e+00, 5.00000000e+00, 4.08163265e-01],\n",
       "       ...,\n",
       "       [1.00000000e+00, 0.00000000e+00, 0.00000000e+00, ...,\n",
       "        0.00000000e+00, 4.44130000e+04, 3.26530612e-01],\n",
       "       [1.00000000e+00, 0.00000000e+00, 0.00000000e+00, ...,\n",
       "        1.00000000e+00, 4.44150000e+04, 5.51020408e-01],\n",
       "       [1.00000000e+00, 0.00000000e+00, 0.00000000e+00, ...,\n",
       "        0.00000000e+00, 4.44310000e+04, 6.73469388e-01]])"
      ]
     },
     "execution_count": 15,
     "metadata": {},
     "output_type": "execute_result"
    }
   ],
   "source": [
    "column_trans.fit_transform(x_values)"
   ]
  },
  {
   "cell_type": "code",
   "execution_count": 16,
   "metadata": {},
   "outputs": [],
   "source": [
    "#making a noob model for cross reference \n",
    "x_noob = x_values.loc[:,['Age']]\n",
    "y_noob = df.Hospitalization"
   ]
  },
  {
   "cell_type": "code",
   "execution_count": 17,
   "metadata": {},
   "outputs": [
    {
     "data": {
      "text/plain": [
       "(5847,)"
      ]
     },
     "execution_count": 17,
     "metadata": {},
     "output_type": "execute_result"
    }
   ],
   "source": [
    "y_noob.shape"
   ]
  },
  {
   "cell_type": "code",
   "execution_count": 18,
   "metadata": {},
   "outputs": [
    {
     "data": {
      "text/plain": [
       "RandomForestClassifier(criterion='entropy', n_estimators=10, random_state=42)"
      ]
     },
     "execution_count": 18,
     "metadata": {},
     "output_type": "execute_result"
    }
   ],
   "source": [
    "from sklearn.model_selection import train_test_split\n",
    "from sklearn.preprocessing import StandardScaler\n",
    "from sklearn.ensemble import RandomForestClassifier\n",
    "from sklearn.metrics import confusion_matrix\n",
    "classifier = RandomForestClassifier(n_estimators = 10, criterion = 'entropy', random_state = 42)\n",
    "classifier.fit(x_noob, y_noob)"
   ]
  },
  {
   "cell_type": "code",
   "execution_count": 19,
   "metadata": {},
   "outputs": [
    {
     "data": {
      "text/plain": [
       "0.6784700196676245"
      ]
     },
     "execution_count": 19,
     "metadata": {},
     "output_type": "execute_result"
    }
   ],
   "source": [
    "from sklearn.model_selection import cross_val_score\n",
    "cross_val_score(classifier,x_noob,y_noob,cv=5,scoring='accuracy').mean()\n"
   ]
  },
  {
   "cell_type": "code",
   "execution_count": 20,
   "metadata": {},
   "outputs": [],
   "source": [
    "from sklearn.pipeline import make_pipeline\n",
    "pipe = make_pipeline(column_trans,classifier)"
   ]
  },
  {
   "cell_type": "code",
   "execution_count": 21,
   "metadata": {},
   "outputs": [
    {
     "name": "stderr",
     "output_type": "stream",
     "text": [
      "/home/capeie/snap/jupyter/common/lib/python3.7/site-packages/sklearn/model_selection/_validation.py:614: FitFailedWarning: Estimator fit failed. The score on this train-test partition for these parameters will be set to nan. Details: \n",
      "Traceback (most recent call last):\n",
      "  File \"/home/capeie/snap/jupyter/common/lib/python3.7/site-packages/pandas/core/indexes/base.py\", line 2898, in get_loc\n",
      "    return self._engine.get_loc(casted_key)\n",
      "  File \"pandas/_libs/index.pyx\", line 70, in pandas._libs.index.IndexEngine.get_loc\n",
      "  File \"pandas/_libs/index.pyx\", line 101, in pandas._libs.index.IndexEngine.get_loc\n",
      "  File \"pandas/_libs/hashtable_class_helper.pxi\", line 1675, in pandas._libs.hashtable.PyObjectHashTable.get_item\n",
      "  File \"pandas/_libs/hashtable_class_helper.pxi\", line 1683, in pandas._libs.hashtable.PyObjectHashTable.get_item\n",
      "KeyError: 'Gender'\n",
      "\n",
      "The above exception was the direct cause of the following exception:\n",
      "\n",
      "Traceback (most recent call last):\n",
      "  File \"/home/capeie/snap/jupyter/common/lib/python3.7/site-packages/sklearn/utils/__init__.py\", line 396, in _get_column_indices\n",
      "    col_idx = all_columns.get_loc(col)\n",
      "  File \"/home/capeie/snap/jupyter/common/lib/python3.7/site-packages/pandas/core/indexes/base.py\", line 2900, in get_loc\n",
      "    raise KeyError(key) from err\n",
      "KeyError: 'Gender'\n",
      "\n",
      "The above exception was the direct cause of the following exception:\n",
      "\n",
      "Traceback (most recent call last):\n",
      "  File \"/home/capeie/snap/jupyter/common/lib/python3.7/site-packages/sklearn/model_selection/_validation.py\", line 593, in _fit_and_score\n",
      "    estimator.fit(X_train, y_train, **fit_params)\n",
      "  File \"/home/capeie/snap/jupyter/common/lib/python3.7/site-packages/sklearn/pipeline.py\", line 341, in fit\n",
      "    Xt = self._fit(X, y, **fit_params_steps)\n",
      "  File \"/home/capeie/snap/jupyter/common/lib/python3.7/site-packages/sklearn/pipeline.py\", line 307, in _fit\n",
      "    **fit_params_steps[name])\n",
      "  File \"/home/capeie/snap/jupyter/common/lib/python3.7/site-packages/joblib/memory.py\", line 352, in __call__\n",
      "    return self.func(*args, **kwargs)\n",
      "  File \"/home/capeie/snap/jupyter/common/lib/python3.7/site-packages/sklearn/pipeline.py\", line 754, in _fit_transform_one\n",
      "    res = transformer.fit_transform(X, y, **fit_params)\n",
      "  File \"/home/capeie/snap/jupyter/common/lib/python3.7/site-packages/sklearn/compose/_column_transformer.py\", line 506, in fit_transform\n",
      "    self._validate_remainder(X)\n",
      "  File \"/home/capeie/snap/jupyter/common/lib/python3.7/site-packages/sklearn/compose/_column_transformer.py\", line 332, in _validate_remainder\n",
      "    cols.extend(_get_column_indices(X, columns))\n",
      "  File \"/home/capeie/snap/jupyter/common/lib/python3.7/site-packages/sklearn/utils/__init__.py\", line 405, in _get_column_indices\n",
      "    ) from e\n",
      "ValueError: A given column is not a column of the dataframe\n",
      "\n",
      "  FitFailedWarning)\n",
      "/home/capeie/snap/jupyter/common/lib/python3.7/site-packages/sklearn/model_selection/_validation.py:614: FitFailedWarning: Estimator fit failed. The score on this train-test partition for these parameters will be set to nan. Details: \n",
      "Traceback (most recent call last):\n",
      "  File \"/home/capeie/snap/jupyter/common/lib/python3.7/site-packages/pandas/core/indexes/base.py\", line 2898, in get_loc\n",
      "    return self._engine.get_loc(casted_key)\n",
      "  File \"pandas/_libs/index.pyx\", line 70, in pandas._libs.index.IndexEngine.get_loc\n",
      "  File \"pandas/_libs/index.pyx\", line 101, in pandas._libs.index.IndexEngine.get_loc\n",
      "  File \"pandas/_libs/hashtable_class_helper.pxi\", line 1675, in pandas._libs.hashtable.PyObjectHashTable.get_item\n",
      "  File \"pandas/_libs/hashtable_class_helper.pxi\", line 1683, in pandas._libs.hashtable.PyObjectHashTable.get_item\n",
      "KeyError: 'Gender'\n",
      "\n",
      "The above exception was the direct cause of the following exception:\n",
      "\n",
      "Traceback (most recent call last):\n",
      "  File \"/home/capeie/snap/jupyter/common/lib/python3.7/site-packages/sklearn/utils/__init__.py\", line 396, in _get_column_indices\n",
      "    col_idx = all_columns.get_loc(col)\n",
      "  File \"/home/capeie/snap/jupyter/common/lib/python3.7/site-packages/pandas/core/indexes/base.py\", line 2900, in get_loc\n",
      "    raise KeyError(key) from err\n",
      "KeyError: 'Gender'\n",
      "\n",
      "The above exception was the direct cause of the following exception:\n",
      "\n",
      "Traceback (most recent call last):\n",
      "  File \"/home/capeie/snap/jupyter/common/lib/python3.7/site-packages/sklearn/model_selection/_validation.py\", line 593, in _fit_and_score\n",
      "    estimator.fit(X_train, y_train, **fit_params)\n",
      "  File \"/home/capeie/snap/jupyter/common/lib/python3.7/site-packages/sklearn/pipeline.py\", line 341, in fit\n",
      "    Xt = self._fit(X, y, **fit_params_steps)\n",
      "  File \"/home/capeie/snap/jupyter/common/lib/python3.7/site-packages/sklearn/pipeline.py\", line 307, in _fit\n",
      "    **fit_params_steps[name])\n",
      "  File \"/home/capeie/snap/jupyter/common/lib/python3.7/site-packages/joblib/memory.py\", line 352, in __call__\n",
      "    return self.func(*args, **kwargs)\n",
      "  File \"/home/capeie/snap/jupyter/common/lib/python3.7/site-packages/sklearn/pipeline.py\", line 754, in _fit_transform_one\n",
      "    res = transformer.fit_transform(X, y, **fit_params)\n",
      "  File \"/home/capeie/snap/jupyter/common/lib/python3.7/site-packages/sklearn/compose/_column_transformer.py\", line 506, in fit_transform\n",
      "    self._validate_remainder(X)\n",
      "  File \"/home/capeie/snap/jupyter/common/lib/python3.7/site-packages/sklearn/compose/_column_transformer.py\", line 332, in _validate_remainder\n",
      "    cols.extend(_get_column_indices(X, columns))\n",
      "  File \"/home/capeie/snap/jupyter/common/lib/python3.7/site-packages/sklearn/utils/__init__.py\", line 405, in _get_column_indices\n",
      "    ) from e\n",
      "ValueError: A given column is not a column of the dataframe\n",
      "\n",
      "  FitFailedWarning)\n",
      "/home/capeie/snap/jupyter/common/lib/python3.7/site-packages/sklearn/model_selection/_validation.py:614: FitFailedWarning: Estimator fit failed. The score on this train-test partition for these parameters will be set to nan. Details: \n",
      "Traceback (most recent call last):\n",
      "  File \"/home/capeie/snap/jupyter/common/lib/python3.7/site-packages/pandas/core/indexes/base.py\", line 2898, in get_loc\n",
      "    return self._engine.get_loc(casted_key)\n",
      "  File \"pandas/_libs/index.pyx\", line 70, in pandas._libs.index.IndexEngine.get_loc\n",
      "  File \"pandas/_libs/index.pyx\", line 101, in pandas._libs.index.IndexEngine.get_loc\n",
      "  File \"pandas/_libs/hashtable_class_helper.pxi\", line 1675, in pandas._libs.hashtable.PyObjectHashTable.get_item\n",
      "  File \"pandas/_libs/hashtable_class_helper.pxi\", line 1683, in pandas._libs.hashtable.PyObjectHashTable.get_item\n",
      "KeyError: 'Gender'\n",
      "\n",
      "The above exception was the direct cause of the following exception:\n",
      "\n",
      "Traceback (most recent call last):\n",
      "  File \"/home/capeie/snap/jupyter/common/lib/python3.7/site-packages/sklearn/utils/__init__.py\", line 396, in _get_column_indices\n",
      "    col_idx = all_columns.get_loc(col)\n",
      "  File \"/home/capeie/snap/jupyter/common/lib/python3.7/site-packages/pandas/core/indexes/base.py\", line 2900, in get_loc\n",
      "    raise KeyError(key) from err\n",
      "KeyError: 'Gender'\n",
      "\n",
      "The above exception was the direct cause of the following exception:\n",
      "\n",
      "Traceback (most recent call last):\n",
      "  File \"/home/capeie/snap/jupyter/common/lib/python3.7/site-packages/sklearn/model_selection/_validation.py\", line 593, in _fit_and_score\n",
      "    estimator.fit(X_train, y_train, **fit_params)\n",
      "  File \"/home/capeie/snap/jupyter/common/lib/python3.7/site-packages/sklearn/pipeline.py\", line 341, in fit\n",
      "    Xt = self._fit(X, y, **fit_params_steps)\n",
      "  File \"/home/capeie/snap/jupyter/common/lib/python3.7/site-packages/sklearn/pipeline.py\", line 307, in _fit\n",
      "    **fit_params_steps[name])\n",
      "  File \"/home/capeie/snap/jupyter/common/lib/python3.7/site-packages/joblib/memory.py\", line 352, in __call__\n",
      "    return self.func(*args, **kwargs)\n",
      "  File \"/home/capeie/snap/jupyter/common/lib/python3.7/site-packages/sklearn/pipeline.py\", line 754, in _fit_transform_one\n",
      "    res = transformer.fit_transform(X, y, **fit_params)\n",
      "  File \"/home/capeie/snap/jupyter/common/lib/python3.7/site-packages/sklearn/compose/_column_transformer.py\", line 506, in fit_transform\n",
      "    self._validate_remainder(X)\n",
      "  File \"/home/capeie/snap/jupyter/common/lib/python3.7/site-packages/sklearn/compose/_column_transformer.py\", line 332, in _validate_remainder\n",
      "    cols.extend(_get_column_indices(X, columns))\n",
      "  File \"/home/capeie/snap/jupyter/common/lib/python3.7/site-packages/sklearn/utils/__init__.py\", line 405, in _get_column_indices\n",
      "    ) from e\n",
      "ValueError: A given column is not a column of the dataframe\n",
      "\n",
      "  FitFailedWarning)\n",
      "/home/capeie/snap/jupyter/common/lib/python3.7/site-packages/sklearn/model_selection/_validation.py:614: FitFailedWarning: Estimator fit failed. The score on this train-test partition for these parameters will be set to nan. Details: \n",
      "Traceback (most recent call last):\n",
      "  File \"/home/capeie/snap/jupyter/common/lib/python3.7/site-packages/pandas/core/indexes/base.py\", line 2898, in get_loc\n",
      "    return self._engine.get_loc(casted_key)\n",
      "  File \"pandas/_libs/index.pyx\", line 70, in pandas._libs.index.IndexEngine.get_loc\n",
      "  File \"pandas/_libs/index.pyx\", line 101, in pandas._libs.index.IndexEngine.get_loc\n",
      "  File \"pandas/_libs/hashtable_class_helper.pxi\", line 1675, in pandas._libs.hashtable.PyObjectHashTable.get_item\n",
      "  File \"pandas/_libs/hashtable_class_helper.pxi\", line 1683, in pandas._libs.hashtable.PyObjectHashTable.get_item\n",
      "KeyError: 'Gender'\n",
      "\n",
      "The above exception was the direct cause of the following exception:\n",
      "\n",
      "Traceback (most recent call last):\n",
      "  File \"/home/capeie/snap/jupyter/common/lib/python3.7/site-packages/sklearn/utils/__init__.py\", line 396, in _get_column_indices\n",
      "    col_idx = all_columns.get_loc(col)\n",
      "  File \"/home/capeie/snap/jupyter/common/lib/python3.7/site-packages/pandas/core/indexes/base.py\", line 2900, in get_loc\n",
      "    raise KeyError(key) from err\n",
      "KeyError: 'Gender'\n",
      "\n",
      "The above exception was the direct cause of the following exception:\n",
      "\n",
      "Traceback (most recent call last):\n",
      "  File \"/home/capeie/snap/jupyter/common/lib/python3.7/site-packages/sklearn/model_selection/_validation.py\", line 593, in _fit_and_score\n",
      "    estimator.fit(X_train, y_train, **fit_params)\n",
      "  File \"/home/capeie/snap/jupyter/common/lib/python3.7/site-packages/sklearn/pipeline.py\", line 341, in fit\n",
      "    Xt = self._fit(X, y, **fit_params_steps)\n",
      "  File \"/home/capeie/snap/jupyter/common/lib/python3.7/site-packages/sklearn/pipeline.py\", line 307, in _fit\n",
      "    **fit_params_steps[name])\n",
      "  File \"/home/capeie/snap/jupyter/common/lib/python3.7/site-packages/joblib/memory.py\", line 352, in __call__\n",
      "    return self.func(*args, **kwargs)\n",
      "  File \"/home/capeie/snap/jupyter/common/lib/python3.7/site-packages/sklearn/pipeline.py\", line 754, in _fit_transform_one\n",
      "    res = transformer.fit_transform(X, y, **fit_params)\n",
      "  File \"/home/capeie/snap/jupyter/common/lib/python3.7/site-packages/sklearn/compose/_column_transformer.py\", line 506, in fit_transform\n",
      "    self._validate_remainder(X)\n",
      "  File \"/home/capeie/snap/jupyter/common/lib/python3.7/site-packages/sklearn/compose/_column_transformer.py\", line 332, in _validate_remainder\n",
      "    cols.extend(_get_column_indices(X, columns))\n",
      "  File \"/home/capeie/snap/jupyter/common/lib/python3.7/site-packages/sklearn/utils/__init__.py\", line 405, in _get_column_indices\n",
      "    ) from e\n",
      "ValueError: A given column is not a column of the dataframe\n",
      "\n",
      "  FitFailedWarning)\n",
      "/home/capeie/snap/jupyter/common/lib/python3.7/site-packages/sklearn/model_selection/_validation.py:614: FitFailedWarning: Estimator fit failed. The score on this train-test partition for these parameters will be set to nan. Details: \n",
      "Traceback (most recent call last):\n",
      "  File \"/home/capeie/snap/jupyter/common/lib/python3.7/site-packages/pandas/core/indexes/base.py\", line 2898, in get_loc\n",
      "    return self._engine.get_loc(casted_key)\n",
      "  File \"pandas/_libs/index.pyx\", line 70, in pandas._libs.index.IndexEngine.get_loc\n",
      "  File \"pandas/_libs/index.pyx\", line 101, in pandas._libs.index.IndexEngine.get_loc\n",
      "  File \"pandas/_libs/hashtable_class_helper.pxi\", line 1675, in pandas._libs.hashtable.PyObjectHashTable.get_item\n",
      "  File \"pandas/_libs/hashtable_class_helper.pxi\", line 1683, in pandas._libs.hashtable.PyObjectHashTable.get_item\n",
      "KeyError: 'Gender'\n",
      "\n",
      "The above exception was the direct cause of the following exception:\n",
      "\n",
      "Traceback (most recent call last):\n",
      "  File \"/home/capeie/snap/jupyter/common/lib/python3.7/site-packages/sklearn/utils/__init__.py\", line 396, in _get_column_indices\n",
      "    col_idx = all_columns.get_loc(col)\n",
      "  File \"/home/capeie/snap/jupyter/common/lib/python3.7/site-packages/pandas/core/indexes/base.py\", line 2900, in get_loc\n",
      "    raise KeyError(key) from err\n",
      "KeyError: 'Gender'\n",
      "\n",
      "The above exception was the direct cause of the following exception:\n",
      "\n",
      "Traceback (most recent call last):\n",
      "  File \"/home/capeie/snap/jupyter/common/lib/python3.7/site-packages/sklearn/model_selection/_validation.py\", line 593, in _fit_and_score\n",
      "    estimator.fit(X_train, y_train, **fit_params)\n",
      "  File \"/home/capeie/snap/jupyter/common/lib/python3.7/site-packages/sklearn/pipeline.py\", line 341, in fit\n",
      "    Xt = self._fit(X, y, **fit_params_steps)\n",
      "  File \"/home/capeie/snap/jupyter/common/lib/python3.7/site-packages/sklearn/pipeline.py\", line 307, in _fit\n",
      "    **fit_params_steps[name])\n",
      "  File \"/home/capeie/snap/jupyter/common/lib/python3.7/site-packages/joblib/memory.py\", line 352, in __call__\n",
      "    return self.func(*args, **kwargs)\n",
      "  File \"/home/capeie/snap/jupyter/common/lib/python3.7/site-packages/sklearn/pipeline.py\", line 754, in _fit_transform_one\n",
      "    res = transformer.fit_transform(X, y, **fit_params)\n",
      "  File \"/home/capeie/snap/jupyter/common/lib/python3.7/site-packages/sklearn/compose/_column_transformer.py\", line 506, in fit_transform\n",
      "    self._validate_remainder(X)\n",
      "  File \"/home/capeie/snap/jupyter/common/lib/python3.7/site-packages/sklearn/compose/_column_transformer.py\", line 332, in _validate_remainder\n",
      "    cols.extend(_get_column_indices(X, columns))\n",
      "  File \"/home/capeie/snap/jupyter/common/lib/python3.7/site-packages/sklearn/utils/__init__.py\", line 405, in _get_column_indices\n",
      "    ) from e\n",
      "ValueError: A given column is not a column of the dataframe\n",
      "\n",
      "  FitFailedWarning)\n"
     ]
    },
    {
     "data": {
      "text/plain": [
       "nan"
      ]
     },
     "execution_count": 21,
     "metadata": {},
     "output_type": "execute_result"
    }
   ],
   "source": [
    "cross_val_score(pipe,x_noob,y_noob,cv=5,scoring='accuracy').mean()\n"
   ]
  },
  {
   "cell_type": "code",
   "execution_count": 22,
   "metadata": {},
   "outputs": [],
   "source": [
    "from sklearn.pipeline import Pipeline\n"
   ]
  },
  {
   "cell_type": "code",
   "execution_count": 23,
   "metadata": {},
   "outputs": [
    {
     "ename": "NameError",
     "evalue": "name 'data_preprocessor' is not defined",
     "output_type": "error",
     "traceback": [
      "\u001b[0;31m---------------------------------------------------------------------------\u001b[0m",
      "\u001b[0;31mNameError\u001b[0m                                 Traceback (most recent call last)",
      "\u001b[0;32m<ipython-input-23-3b04a62a498b>\u001b[0m in \u001b[0;36m<module>\u001b[0;34m\u001b[0m\n\u001b[1;32m      1\u001b[0m rfc_pipeline = Pipeline(steps = [\n\u001b[0;32m----> 2\u001b[0;31m     \u001b[0;34m(\u001b[0m\u001b[0;34m'data_preprocessing'\u001b[0m\u001b[0;34m,\u001b[0m \u001b[0mdata_preprocessor\u001b[0m\u001b[0;34m)\u001b[0m\u001b[0;34m,\u001b[0m\u001b[0;34m\u001b[0m\u001b[0;34m\u001b[0m\u001b[0m\n\u001b[0m\u001b[1;32m      3\u001b[0m     ('model', RandomForestClassifier(max_depth = 10,\n\u001b[1;32m      4\u001b[0m                                      \u001b[0mmin_samples_leaf\u001b[0m \u001b[0;34m=\u001b[0m \u001b[0;36m3\u001b[0m\u001b[0;34m,\u001b[0m\u001b[0;34m\u001b[0m\u001b[0;34m\u001b[0m\u001b[0m\n\u001b[1;32m      5\u001b[0m                                      \u001b[0mmin_samples_split\u001b[0m \u001b[0;34m=\u001b[0m \u001b[0;36m4\u001b[0m\u001b[0;34m,\u001b[0m\u001b[0;34m\u001b[0m\u001b[0;34m\u001b[0m\u001b[0m\n",
      "\u001b[0;31mNameError\u001b[0m: name 'data_preprocessor' is not defined"
     ]
    }
   ],
   "source": [
    "rfc_pipeline = Pipeline(steps = [\n",
    "    ('data_preprocessing', column_trans),\n",
    "    ('model', RandomForestClassifier(max_depth = 10,\n",
    "                                     min_samples_leaf = 3,\n",
    "                                     min_samples_split = 4,\n",
    "                                     n_estimators = 200))\n",
    "])"
   ]
  },
  {
   "cell_type": "code",
   "execution_count": null,
   "metadata": {},
   "outputs": [],
   "source": []
  }
 ],
 "metadata": {
  "kernelspec": {
   "display_name": "Python 3",
   "language": "python",
   "name": "python3"
  },
  "language_info": {
   "codemirror_mode": {
    "name": "ipython",
    "version": 3
   },
   "file_extension": ".py",
   "mimetype": "text/x-python",
   "name": "python",
   "nbconvert_exporter": "python",
   "pygments_lexer": "ipython3",
   "version": "3.7.3"
  }
 },
 "nbformat": 4,
 "nbformat_minor": 2
}
